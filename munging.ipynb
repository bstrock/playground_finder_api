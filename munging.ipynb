{
 "cells": [
  {
   "cell_type": "code",
   "execution_count": 25,
   "outputs": [],
   "source": [
    "import pandas as pd\n",
    "from table_models import Site\n",
    "from create_spatial_db import SpatialDB\n",
    "from sqlalchemy.orm import sessionmaker\n",
    "from sqlalchemy.ext.asyncio import AsyncSession\n",
    "from sqlalchemy .dialects.postgresql import array\n",
    "from icecream import ic"
   ],
   "metadata": {
    "collapsed": false,
    "pycharm": {
     "name": "#%%\n",
     "is_executing": false
    }
   }
  },
  {
   "cell_type": "code",
   "execution_count": 26,
   "outputs": [],
   "source": [
    "data = pd.read_csv(\"~/Downloads/tri_20_mn.csv\")\n",
    "GRAMS_TO_POUNDS = 0.00220462"
   ],
   "metadata": {
    "collapsed": false,
    "pycharm": {
     "name": "#%% load data\n",
     "is_executing": false
    }
   }
  },
  {
   "cell_type": "code",
   "execution_count": 27,
   "outputs": [],
   "source": [
    "# columns have awkward names like -> 64. POTW - TOTAL TRANSFERS\n",
    "# we want them to be nice like -> potw_total_transfers\n",
    "for col in data.columns:\n",
    "    split = col.split(\".\")  # separates out leading integer\n",
    "    new = split[-1]  # captures only the last part of the split as column name\n",
    "    new = new[1:].lower().replace(\" \", \"_\").strip(\"_-_\")  # some cleanup\n",
    "    data.rename(columns={col: new}, inplace=True)  # rename"
   ],
   "metadata": {
    "collapsed": false,
    "pycharm": {
     "name": "#%% rename columns\n",
     "is_executing": false
    }
   }
  },
  {
   "cell_type": "code",
   "execution_count": 28,
   "outputs": [
    {
     "name": "stdout",
     "text": [
      "year\n",
      "trifd\n",
      "frs_id\n",
      "facility_name\n",
      "street_address\n",
      "city\n",
      "county\n",
      "st\n",
      "zip\n",
      "bia\n",
      "tribe\n",
      "latitude\n",
      "longitude\n",
      "horizontal_datum\n",
      "parent_co_name\n",
      "parent_co_db_num\n",
      "standard_parent_co_name\n",
      "federal_facility\n",
      "industry_sector_code\n",
      "industry_sector\n",
      "primary_sic\n",
      "sic_2\n",
      "sic_3\n",
      "sic_4\n",
      "sic_5\n",
      "sic_6\n",
      "primary_naics\n",
      "naics_2\n",
      "naics_3\n",
      "naics_4\n",
      "naics_5\n",
      "naics_6\n",
      "doc_ctrl_num\n",
      "chemical\n",
      "elemental_metal_included\n",
      "tri_chemical/compound_id\n",
      "cas#\n",
      "srs_id\n",
      "clean_air_act_chemical\n",
      "classification\n",
      "metal\n",
      "metal_category\n",
      "carcinogen\n",
      "pfas\n",
      "form_type\n",
      "unit_of_measure\n",
      "fugitive_air\n",
      "stack_air\n",
      "water\n",
      "underground\n",
      "underground_cl_i\n",
      "underground_c_ii-v\n",
      "landfills\n",
      "a_-_rcra_c_landfill\n",
      "b_-_other_landfills\n",
      "land_treatment\n",
      "surface_impndmnt\n",
      "a_-_rcra_surface_im\n",
      "b_-_other_surface_i\n",
      "other_disposal\n",
      "on-site_release_total\n",
      "potw_-_trns_rlse\n",
      "potw_-_trns_trt\n",
      "potw_-_total_transfers\n",
      "m10\n",
      "m41\n",
      "m62\n",
      "m40_metal\n",
      "m61_metal\n",
      "m71\n",
      "m81\n",
      "m82\n",
      "m72\n",
      "m63\n",
      "m66\n",
      "m67\n",
      "m64\n",
      "m65\n",
      "m73\n",
      "m79\n",
      "m90\n",
      "m94\n",
      "m99\n",
      "off-site_release_total\n",
      "m20\n",
      "m24\n",
      "m26\n",
      "m28\n",
      "m93\n",
      "off-site_recycled_total\n",
      "m56\n",
      "m92\n",
      "off-site_energy_recovery_t\n",
      "m40_non-metal\n",
      "m50\n",
      "m54\n",
      "m61_non-metal\n",
      "m69\n",
      "m95\n",
      "off-site_treated_total\n",
      "unclassified\n",
      "total_transfer\n",
      "total_releases\n",
      "releases\n",
      "a_-_on-site_contained\n",
      "b_-_on-site_other\n",
      "c_-_off-site_contain\n",
      "d_-_off-site_other_r\n",
      "energy_recover_on\n",
      "energy_recover_of\n",
      "recycling_on_site\n",
      "recycling_off_sit\n",
      "treatment_on_site\n",
      "treatment_off_site\n",
      ")\n",
      "one-time_release\n",
      "prod_ratio_or__activity\n",
      "production_ratio\n",
      "nnamed:_118\n"
     ],
     "output_type": "stream"
    }
   ],
   "source": [
    "for col in data.columns:\n",
    "    print(col)"
   ],
   "metadata": {
    "collapsed": false,
    "pycharm": {
     "name": "#%% check success\n",
     "is_executing": false
    }
   }
  },
  {
   "cell_type": "code",
   "execution_count": 29,
   "outputs": [],
   "source": [
    "columns = ['trifd', 'facility_name', 'street_address', 'city', 'county', 'st', 'zip', 'latitude', 'longitude', 'industry_sector', 'chemical', 'carcinogen', 'unit_of_measure', 'total_releases', \"fugitive_air\", \"stack_air\", \"water\", \"underground\", \"landfills\", \"surface_impndmnt\", \"land_treatment\"]\n",
    "data = data.filter(items=columns)"
   ],
   "metadata": {
    "collapsed": false,
    "pycharm": {
     "name": "#%% the columns we're keeping\n",
     "is_executing": false
    }
   }
  },
  {
   "cell_type": "code",
   "execution_count": 30,
   "outputs": [],
   "source": [
    "engine = SpatialDB.engine\n",
    "Session = sessionmaker(engine, class_=AsyncSession, expire_on_commit=False)"
   ],
   "metadata": {
    "collapsed": false,
    "pycharm": {
     "name": "#%% initialize db connections\n",
     "is_executing": false
    }
   }
  },
  {
   "cell_type": "code",
   "execution_count": 31,
   "outputs": [],
   "source": [
    "sites = data['trifd'].unique().tolist()  # keys\n",
    "\n",
    "sites_to_db = []\n",
    "\n",
    "for site in sites:\n",
    "    df = data[data.trifd == site]  # subset data for site\n",
    "    check_carcinogen = df.carcinogen.unique()  # array of values\n",
    "    carcinogen = True if \"YES\" in check_carcinogen else False  # site flagged True if any chemical is carcinogenic\n",
    "    chemicals = {}  # placeholder\n",
    "    geom = f\"POINT({df.longitude.unique()[0]} {df.latitude.unique()[0]})\"  # PostGIS string\n",
    "    \n",
    "    # determine site release handling\n",
    "    types = []\n",
    "    if df.fugitive_air.sum() > 0 or df.stack_air.sum() > 0:\n",
    "        types.append(\"AIR\")\n",
    "    \n",
    "    if df.water.sum() > 0:\n",
    "        types.append(\"WATER\")\n",
    "        \n",
    "    if df.underground.sum() > 0 or df.landfills.sum() > 0 or df.surface_impndmnt.sum() > 0:\n",
    "        types.append(\"LAND\")\n",
    "        \n",
    "    total_releases = 0.  # value counter\n",
    "    \n",
    "    # get row for each chemical at the site, record its unit and total, add total to releases\n",
    "    for chemical in df.chemical.unique():\n",
    "        row = df[df.chemical == chemical]\n",
    "        unit = row['unit_of_measure'].iloc[0]\n",
    "        total = row['total_releases'].iloc[0]\n",
    "        \n",
    "        total_releases += total if unit == \"Pounds\" else total * GRAMS_TO_POUNDS\n",
    "        \n",
    "        chemicals[chemical] = {\n",
    "            \"unit\": unit,\n",
    "            \"total\": total\n",
    "        }\n",
    "    \n",
    "    if len(types) == 0:\n",
    "        types = [None]\n",
    "        \n",
    "    # instantiate row for this site\n",
    "    this_site = Site(\n",
    "        site_id=df.trifd.unique()[0],\n",
    "        name=df.facility_name.unique()[0],\n",
    "        address=df.street_address.unique()[0],\n",
    "        city=df.city.unique()[0],\n",
    "        county=df.county.unique()[0],\n",
    "        state=df.st.unique()[0],\n",
    "        zip=int(df.zip.unique()[0]),\n",
    "        latitude=df.latitude.unique()[0],\n",
    "        longitude=df.latitude.unique()[0],\n",
    "        sector=df.industry_sector.unique()[0],\n",
    "        carcinogen=carcinogen,\n",
    "        chemicals=chemicals,\n",
    "        release_types=array(types),\n",
    "        total_releases=total_releases,\n",
    "        geom=geom\n",
    "    )\n",
    "    \n",
    "    sites_to_db.append(this_site)"
   ],
   "metadata": {
    "collapsed": false,
    "pycharm": {
     "name": "#%% site processing\n",
     "is_executing": false
    }
   }
  },
  {
   "cell_type": "code",
   "execution_count": 32,
   "outputs": [
    {
     "name": "stderr",
     "text": [
      "ic| Error: Failed to access the underlying source code for analysis. Was ic() invoked in a REPL (e.g. from the command line), a frozen application (e.g. packaged with PyInstaller), or did the underlying source code change during execution?\n"
     ],
     "output_type": "stream"
    },
    {
     "traceback": [
      "\u001b[0;31m---------------------------------------------------------------------------\u001b[0m",
      "\u001b[0;31mTypeError\u001b[0m                                 Traceback (most recent call last)",
      "\u001b[0;32m/var/folders/5q/52jpyh6j41gb7ng_vfkgy99w0000gn/T/ipykernel_5700/1493037217.py\u001b[0m in \u001b[0;36m<module>\u001b[0;34m\u001b[0m\n\u001b[1;32m      4\u001b[0m     \u001b[0;32masync\u001b[0m \u001b[0;32mwith\u001b[0m \u001b[0mSession\u001b[0m\u001b[0;34m(\u001b[0m\u001b[0;34m)\u001b[0m \u001b[0;32mas\u001b[0m \u001b[0ms\u001b[0m\u001b[0;34m:\u001b[0m\u001b[0;34m\u001b[0m\u001b[0;34m\u001b[0m\u001b[0m\n\u001b[1;32m      5\u001b[0m         \u001b[0;32masync\u001b[0m \u001b[0;32mwith\u001b[0m \u001b[0ms\u001b[0m\u001b[0;34m.\u001b[0m\u001b[0mbegin\u001b[0m\u001b[0;34m(\u001b[0m\u001b[0;34m)\u001b[0m\u001b[0;34m:\u001b[0m\u001b[0;34m\u001b[0m\u001b[0;34m\u001b[0m\u001b[0m\n\u001b[0;32m----> 6\u001b[0;31m             \u001b[0;32mawait\u001b[0m \u001b[0ms\u001b[0m\u001b[0;34m.\u001b[0m\u001b[0madd\u001b[0m\u001b[0;34m(\u001b[0m\u001b[0msite\u001b[0m\u001b[0;34m)\u001b[0m\u001b[0;34m\u001b[0m\u001b[0;34m\u001b[0m\u001b[0m\n\u001b[0m\u001b[1;32m      7\u001b[0m \u001b[0;34m\u001b[0m\u001b[0m\n",
      "\u001b[0;31mTypeError\u001b[0m: object NoneType can't be used in 'await' expression"
     ],
     "ename": "TypeError",
     "evalue": "object NoneType can't be used in 'await' expression",
     "output_type": "error"
    }
   ],
   "source": [
    "for site in sites_to_db:\n",
    "    ic(site)\n",
    "    # create row in db\n",
    "    async with Session() as s:\n",
    "        async with s.begin():\n",
    "            await s.add(site)"
   ],
   "metadata": {
    "collapsed": false,
    "pycharm": {
     "name": "#%%\n",
     "is_executing": false
    }
   }
  },
  {
   "cell_type": "code",
   "execution_count": null,
   "outputs": [],
   "source": [],
   "metadata": {
    "collapsed": false,
    "pycharm": {
     "name": "#%%\n",
     "is_executing": false
    }
   }
  }
 ],
 "metadata": {
  "kernelspec": {
   "display_name": "Python 3",
   "language": "python",
   "name": "python3"
  },
  "language_info": {
   "codemirror_mode": {
    "name": "ipython",
    "version": 2
   },
   "file_extension": ".py",
   "mimetype": "text/x-python",
   "name": "python",
   "nbconvert_exporter": "python",
   "pygments_lexer": "ipython2",
   "version": "2.7.6"
  },
  "pycharm": {
   "stem_cell": {
    "cell_type": "raw",
    "source": [],
    "metadata": {
     "collapsed": false
    }
   }
  }
 },
 "nbformat": 4,
 "nbformat_minor": 0
}